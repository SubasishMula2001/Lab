{
  "nbformat": 4,
  "nbformat_minor": 0,
  "metadata": {
    "colab": {
      "provenance": []
    },
    "kernelspec": {
      "name": "python3",
      "display_name": "Python 3"
    },
    "language_info": {
      "name": "python"
    }
  },
  "cells": [
    {
      "cell_type": "code",
      "execution_count": 4,
      "metadata": {
        "id": "CvJHeZAyTqC6"
      },
      "outputs": [],
      "source": [
        "import pandas as pd"
      ]
    },
    {
      "cell_type": "code",
      "source": [
        "df = pd.read_csv('/content/credit_dataset.csv')\n",
        "df1 = pd.read_csv('/content/heart.csv')"
      ],
      "metadata": {
        "id": "d72d8zIofnj7"
      },
      "execution_count": 5,
      "outputs": []
    },
    {
      "cell_type": "markdown",
      "source": [
        "**Imbalance for credit_dataset**"
      ],
      "metadata": {
        "id": "ByKhVRgGf1fT"
      }
    },
    {
      "cell_type": "code",
      "source": [
        "from sklearn.model_selection import train_test_split\n",
        "from sklearn.ensemble import RandomForestClassifier\n",
        "from sklearn.metrics import accuracy_score\n",
        "from sklearn.preprocessing import LabelEncoder\n",
        "\n",
        "# Encode categorical variables\n",
        "label_encoder = LabelEncoder()\n",
        "X = df.drop(columns=[\"Unnamed: 0\", \"ID\", \"TARGET\"])\n",
        "for column in X.select_dtypes(include=[\"object\"]).columns:\n",
        "    X[column] = label_encoder.fit_transform(X[column])\n",
        "\n",
        "y = df[\"TARGET\"]\n",
        "\n",
        "# Check class distribution\n",
        "print(\"Class Distribution:\")\n",
        "print(y.value_counts())\n",
        "\n",
        "# Split data into training and testing sets\n",
        "X_train, X_test, y_train, y_test = train_test_split(X, y, test_size=0.2, random_state=42, stratify=y)\n",
        "\n",
        "# Train a Random Forest Classifier\n",
        "model = RandomForestClassifier(random_state=42)\n",
        "model.fit(X_train, y_train)\n",
        "\n",
        "# Predictions\n",
        "train_predictions = model.predict(X_train)\n",
        "test_predictions = model.predict(X_test)\n",
        "\n",
        "# Calculate accuracies and errors\n",
        "train_accuracy = accuracy_score(y_train, train_predictions)\n",
        "test_accuracy = accuracy_score(y_test, test_predictions)\n",
        "train_error = 1 - train_accuracy\n",
        "test_error = 1 - test_accuracy\n",
        "\n",
        "# Results\n",
        "print(\"\\nResults:\")\n",
        "print(\"Train Accuracy:\", train_accuracy)\n",
        "print(\"Train Error:\", train_error)\n",
        "print(\"Test Accuracy:\", test_accuracy)\n",
        "print(\"Test Error:\", test_error)"
      ],
      "metadata": {
        "colab": {
          "base_uri": "https://localhost:8080/"
        },
        "id": "cTOPvS0PfvL3",
        "outputId": "9ab438fb-cb12-4f08-f9fd-1a6f790b1429"
      },
      "execution_count": 8,
      "outputs": [
        {
          "output_type": "stream",
          "name": "stdout",
          "text": [
            "Class Distribution:\n",
            "TARGET\n",
            "0    24712\n",
            "1      422\n",
            "Name: count, dtype: int64\n",
            "\n",
            "Results:\n",
            "Train Accuracy: 0.998657184065251\n",
            "Train Error: 0.0013428159347490531\n",
            "Test Accuracy: 0.9814999005370997\n",
            "Test Error: 0.01850009946290032\n"
          ]
        }
      ]
    },
    {
      "cell_type": "code",
      "source": [
        "from sklearn.model_selection import train_test_split\n",
        "from sklearn.ensemble import RandomForestClassifier\n",
        "from sklearn.metrics import accuracy_score\n",
        "from sklearn.preprocessing import LabelEncoder\n",
        "from imblearn.over_sampling import SMOTE\n",
        "\n",
        "# Encode categorical variables\n",
        "label_encoder = LabelEncoder()\n",
        "X = df.drop(columns=[\"Unnamed: 0\", \"ID\", \"TARGET\"])\n",
        "for column in X.select_dtypes(include=[\"object\"]).columns:\n",
        "    X[column] = label_encoder.fit_transform(X[column])\n",
        "\n",
        "y = df[\"TARGET\"]\n",
        "\n",
        "# Check class distribution\n",
        "print(\"Class Distribution Before SMOTE:\")\n",
        "print(y.value_counts())\n",
        "\n",
        "# Split data into training and testing sets\n",
        "X_train, X_test, y_train, y_test = train_test_split(X, y, test_size=0.2, random_state=42, stratify=y)\n",
        "\n",
        "# Apply SMOTE to handle class imbalance\n",
        "smote = SMOTE(random_state=42)\n",
        "X_train_smote, y_train_smote = smote.fit_resample(X_train, y_train)\n",
        "\n",
        "# Check class distribution after SMOTE\n",
        "print(\"\\nClass Distribution After SMOTE:\")\n",
        "print(y_train_smote.value_counts())\n",
        "\n",
        "# Train a Random Forest Classifier\n",
        "model = RandomForestClassifier(random_state=42)\n",
        "model.fit(X_train_smote, y_train_smote)\n",
        "\n",
        "# Predictions\n",
        "train_predictions = model.predict(X_train_smote)\n",
        "test_predictions = model.predict(X_test)\n",
        "\n",
        "# Calculate accuracies and errors\n",
        "train_accuracy = accuracy_score(y_train_smote, train_predictions)\n",
        "test_accuracy = accuracy_score(y_test, test_predictions)\n",
        "train_error = 1 - train_accuracy\n",
        "test_error = 1 - test_accuracy\n",
        "\n",
        "# Results\n",
        "print(\"\\nResults:\")\n",
        "print(\"Train Accuracy:\", train_accuracy)\n",
        "print(\"Train Error:\", train_error)\n",
        "print(\"Test Accuracy:\", test_accuracy)\n",
        "print(\"Test Error:\", test_error)"
      ],
      "metadata": {
        "colab": {
          "base_uri": "https://localhost:8080/"
        },
        "id": "jPWwMaI3iYgR",
        "outputId": "a1c24afa-a7a7-4ed1-fb22-17d395299ab1"
      },
      "execution_count": 10,
      "outputs": [
        {
          "output_type": "stream",
          "name": "stdout",
          "text": [
            "Class Distribution Before SMOTE:\n",
            "TARGET\n",
            "0    24712\n",
            "1      422\n",
            "Name: count, dtype: int64\n",
            "\n",
            "Class Distribution After SMOTE:\n",
            "TARGET\n",
            "0    19769\n",
            "1    19769\n",
            "Name: count, dtype: int64\n",
            "\n",
            "Results:\n",
            "Train Accuracy: 0.9989377307906318\n",
            "Train Error: 0.0010622692093682495\n",
            "Test Accuracy: 0.9795106425303362\n",
            "Test Error: 0.02048935746966385\n"
          ]
        }
      ]
    },
    {
      "cell_type": "markdown",
      "source": [
        "**Overfitting for heart dataset**"
      ],
      "metadata": {
        "id": "Ue1Ui1Rejuj3"
      }
    },
    {
      "cell_type": "code",
      "source": [
        "from sklearn.model_selection import train_test_split\n",
        "from sklearn.ensemble import RandomForestClassifier\n",
        "from sklearn.metrics import accuracy_score\n",
        "\n",
        "# Features and target\n",
        "X = df1.drop(columns=[\"output\"])\n",
        "y = df1[\"output\"]\n",
        "\n",
        "# Split data into training and testing sets\n",
        "X_train, X_test, y_train, y_test = train_test_split(X, y, test_size=0.2, random_state=42, stratify=y)\n",
        "\n",
        "# Train a Random Forest Classifier\n",
        "model = RandomForestClassifier(random_state=42)\n",
        "model.fit(X_train, y_train)\n",
        "\n",
        "# Predictions\n",
        "train_predictions = model.predict(X_train)\n",
        "test_predictions = model.predict(X_test)\n",
        "\n",
        "# Calculate accuracies and errors\n",
        "train_accuracy = accuracy_score(y_train, train_predictions)\n",
        "test_accuracy = accuracy_score(y_test, test_predictions)\n",
        "train_error = 1 - train_accuracy\n",
        "test_error = 1 - test_accuracy\n",
        "\n",
        "# Results\n",
        "print(\"Train Accuracy:\", train_accuracy)\n",
        "print(\"Train Error:\", train_error)\n",
        "print(\"Test Accuracy:\", test_accuracy)\n",
        "print(\"Test Error:\", test_error)"
      ],
      "metadata": {
        "colab": {
          "base_uri": "https://localhost:8080/"
        },
        "id": "1Wl_dPoQjidv",
        "outputId": "8c4635a7-51be-478b-fdc6-490dd6be9c6c"
      },
      "execution_count": 11,
      "outputs": [
        {
          "output_type": "stream",
          "name": "stdout",
          "text": [
            "Train Accuracy: 1.0\n",
            "Train Error: 0.0\n",
            "Test Accuracy: 0.8360655737704918\n",
            "Test Error: 0.16393442622950816\n"
          ]
        }
      ]
    },
    {
      "cell_type": "markdown",
      "source": [
        "**K Fold Cross Validation**"
      ],
      "metadata": {
        "id": "PG5ywb4WkmF-"
      }
    },
    {
      "cell_type": "code",
      "source": [
        "from sklearn.model_selection import cross_val_score\n",
        "from sklearn.ensemble import RandomForestClassifier\n",
        "\n",
        "# Features and target\n",
        "X = df1.drop(columns=[\"output\"])\n",
        "y = df1[\"output\"]\n",
        "\n",
        "# Initialize Random Forest Classifier\n",
        "model = RandomForestClassifier(random_state=42)\n",
        "\n",
        "# Perform k-fold cross-validation (k=5)\n",
        "k = 5\n",
        "cv_scores = cross_val_score(model, X, y, cv=k, scoring='accuracy')\n",
        "\n",
        "# Results\n",
        "print(f\"{k}-Fold Cross-Validation Scores: {cv_scores}\")\n",
        "print(f\"Mean Accuracy: {cv_scores.mean()}\")\n",
        "print(f\"Standard Deviation: {cv_scores.std()}\")"
      ],
      "metadata": {
        "colab": {
          "base_uri": "https://localhost:8080/"
        },
        "id": "DwVft5uXkhq7",
        "outputId": "fe7269b5-893f-4d9e-9812-5b41893042c4"
      },
      "execution_count": 12,
      "outputs": [
        {
          "output_type": "stream",
          "name": "stdout",
          "text": [
            "5-Fold Cross-Validation Scores: [0.81967213 0.8852459  0.83606557 0.85       0.8       ]\n",
            "Mean Accuracy: 0.8381967213114756\n",
            "Standard Deviation: 0.02884314305637647\n"
          ]
        }
      ]
    },
    {
      "cell_type": "markdown",
      "source": [
        "**Learning Curve**"
      ],
      "metadata": {
        "id": "DiTLUQVClI9a"
      }
    },
    {
      "cell_type": "code",
      "source": [
        "import matplotlib.pyplot as plt\n",
        "from sklearn.model_selection import learning_curve\n",
        "from sklearn.ensemble import RandomForestClassifier\n",
        "\n",
        "# Features and target\n",
        "X = df1.drop(columns=[\"output\"])\n",
        "y = df1[\"output\"]\n",
        "\n",
        "# Initialize Random Forest Classifier\n",
        "model = RandomForestClassifier(random_state=42)\n",
        "\n",
        "# Generate learning curve data\n",
        "train_sizes, train_scores, validation_scores = learning_curve(\n",
        "    model, X, y, cv=5, scoring='accuracy', train_sizes=[0.1, 0.2, 0.5, 0.8, 1.0], random_state=42\n",
        ")\n",
        "\n",
        "# Calculate mean and standard deviation for training and validation scores\n",
        "train_mean = train_scores.mean(axis=1)\n",
        "train_std = train_scores.std(axis=1)\n",
        "validation_mean = validation_scores.mean(axis=1)\n",
        "validation_std = validation_scores.std(axis=1)\n",
        "\n",
        "# Plot the learning curve\n",
        "plt.figure(figsize=(8, 6))\n",
        "plt.plot(train_sizes, train_mean, label=\"Training Accuracy\", marker='o')\n",
        "plt.plot(train_sizes, validation_mean, label=\"Validation Accuracy\", marker='o')\n",
        "\n",
        "# Fill the area between the standard deviation\n",
        "plt.fill_between(train_sizes, train_mean - train_std, train_mean + train_std, alpha=0.2)\n",
        "plt.fill_between(train_sizes, validation_mean - validation_std, validation_mean + validation_std, alpha=0.2)\n",
        "\n",
        "# Labels and legend\n",
        "plt.title(\"Learning Curve: Random Forest\")\n",
        "plt.xlabel(\"Training Set Size\")\n",
        "plt.ylabel(\"Accuracy\")\n",
        "plt.legend(loc=\"best\")\n",
        "plt.grid()\n",
        "plt.show()"
      ],
      "metadata": {
        "colab": {
          "base_uri": "https://localhost:8080/",
          "height": 564
        },
        "id": "t00CQRmwk5d1",
        "outputId": "2167f67e-973e-4d9b-e766-da4ee9b24b43"
      },
      "execution_count": 13,
      "outputs": [
        {
          "output_type": "display_data",
          "data": {
            "text/plain": [
              "<Figure size 800x600 with 1 Axes>"
            ],
            "image/png": "[encoded data removed]"
          },
          "metadata": {}
        }
      ]
    },
    {
      "cell_type": "markdown",
      "source": [
        "**Selecting Important Features and then accuracy**"
      ],
      "metadata": {
        "id": "XoguPDNxmLmb"
      }
    },
    {
      "cell_type": "code",
      "source": [
        "from sklearn.ensemble import RandomForestClassifier\n",
        "from sklearn.model_selection import train_test_split\n",
        "from sklearn.metrics import accuracy_score\n",
        "import pandas as pd\n",
        "\n",
        "# Features and target\n",
        "X = df1.drop(columns=[\"output\"])\n",
        "y = df1[\"output\"]\n",
        "\n",
        "# Train Random Forest to calculate feature importance\n",
        "model = RandomForestClassifier(random_state=42)\n",
        "model.fit(X, y)\n",
        "\n",
        "# Get feature importance\n",
        "feature_importance = pd.Series(model.feature_importances_, index=X.columns).sort_values(ascending=False)\n",
        "\n",
        "# Select features with importance > 5% (threshold can be adjusted)\n",
        "selected_features = feature_importance[feature_importance > 0.05].index\n",
        "X_reduced = X[selected_features]\n",
        "\n",
        "# Split reduced dataset into training and testing sets\n",
        "X_train, X_test, y_train, y_test = train_test_split(X_reduced, y, test_size=0.2, random_state=42, stratify=y)\n",
        "\n",
        "# Train Random Forest with reduced features\n",
        "reduced_model = RandomForestClassifier(random_state=42)\n",
        "reduced_model.fit(X_train, y_train)\n",
        "\n",
        "# Predictions\n",
        "train_predictions = reduced_model.predict(X_train)\n",
        "test_predictions = reduced_model.predict(X_test)\n",
        "\n",
        "# Calculate accuracies\n",
        "train_accuracy = accuracy_score(y_train, train_predictions)\n",
        "test_accuracy = accuracy_score(y_test, test_predictions)\n",
        "\n",
        "# Results\n",
        "print(\"Selected Features:\", selected_features.tolist())\n",
        "print(\"Train Accuracy with Reduced Features:\", train_accuracy)\n",
        "print(\"Test Accuracy with Reduced Features:\", test_accuracy)"
      ],
      "metadata": {
        "colab": {
          "base_uri": "https://localhost:8080/"
        },
        "id": "bqfoNEUKlTEH",
        "outputId": "9c196979-9df6-49db-cc2d-59d3f9d97b4c"
      },
      "execution_count": 14,
      "outputs": [
        {
          "output_type": "stream",
          "name": "stdout",
          "text": [
            "Selected Features: ['cp', 'thalachh', 'caa', 'thall', 'oldpeak', 'age', 'chol', 'trtbps', 'exng', 'slp']\n",
            "Train Accuracy with Reduced Features: 1.0\n",
            "Test Accuracy with Reduced Features: 0.8360655737704918\n"
          ]
        }
      ]
    },
    {
      "cell_type": "markdown",
      "source": [
        "**Regularization**"
      ],
      "metadata": {
        "id": "BBqPC2Q0mvuV"
      }
    },
    {
      "cell_type": "code",
      "source": [
        "from sklearn.model_selection import train_test_split\n",
        "from sklearn.ensemble import RandomForestClassifier\n",
        "from sklearn.metrics import accuracy_score\n",
        "\n",
        "# Features and target\n",
        "X = df1.drop(columns=[\"output\"])\n",
        "y = df1[\"output\"]\n",
        "\n",
        "# Split data into training and testing sets\n",
        "X_train, X_test, y_train, y_test = train_test_split(X, y, test_size=0.2, random_state=42, stratify=y)\n",
        "\n",
        "# Train a Random Forest Classifier with Regularization\n",
        "model = RandomForestClassifier(\n",
        "    random_state=42,\n",
        "    max_depth=5,               # Limit the depth of trees\n",
        "    min_samples_split=10,      # Minimum samples to split a node\n",
        "    min_samples_leaf=5,        # Minimum samples at a leaf node\n",
        "    n_estimators=100           # Number of trees in the forest\n",
        ")\n",
        "model.fit(X_train, y_train)\n",
        "\n",
        "# Predictions\n",
        "train_predictions = model.predict(X_train)\n",
        "test_predictions = model.predict(X_test)\n",
        "\n",
        "# Calculate accuracies\n",
        "train_accuracy = accuracy_score(y_train, train_predictions)\n",
        "test_accuracy = accuracy_score(y_test, test_predictions)\n",
        "\n",
        "# Results\n",
        "print(\"Train Accuracy with Regularization:\", train_accuracy)\n",
        "print(\"Test Accuracy with Regularization:\", test_accuracy)\n"
      ],
      "metadata": {
        "colab": {
          "base_uri": "https://localhost:8080/"
        },
        "id": "UoH6zlBvmDDb",
        "outputId": "7aa40e15-f311-4458-b8bd-66183a2b9467"
      },
      "execution_count": 18,
      "outputs": [
        {
          "output_type": "stream",
          "name": "stdout",
          "text": [
            "Train Accuracy with Regularization: 0.9132231404958677\n",
            "Test Accuracy with Regularization: 0.8360655737704918\n"
          ]
        }
      ]
    },
    {
      "cell_type": "markdown",
      "source": [
        "**Early Stopping**"
      ],
      "metadata": {
        "id": "RuFPX6ZCoC6X"
      }
    },
    {
      "cell_type": "code",
      "source": [
        "from sklearn.ensemble import RandomForestClassifier\n",
        "from sklearn.metrics import accuracy_score\n",
        "from sklearn.model_selection import train_test_split\n",
        "\n",
        "# Features and target\n",
        "X = df1.drop(columns=[\"output\"])\n",
        "y = df1[\"output\"]\n",
        "\n",
        "# Split data into training, validation, and testing sets\n",
        "X_train, X_temp, y_train, y_temp = train_test_split(X, y, test_size=0.3, random_state=42, stratify=y)\n",
        "X_val, X_test, y_val, y_test = train_test_split(X_temp, y_temp, test_size=0.5, random_state=42, stratify=y_temp)\n",
        "\n",
        "# Early stopping logic\n",
        "best_n_estimators = 0\n",
        "best_val_accuracy = 0\n",
        "train_accuracy_list = []\n",
        "val_accuracy_list = []\n",
        "\n",
        "for n_trees in range(10, 201, 10):  # Incrementally add trees\n",
        "    model = RandomForestClassifier(n_estimators=n_trees, random_state=42)\n",
        "    model.fit(X_train, y_train)\n",
        "\n",
        "    # Evaluate on training and validation sets\n",
        "    train_accuracy = accuracy_score(y_train, model.predict(X_train))\n",
        "    val_accuracy = accuracy_score(y_val, model.predict(X_val))\n",
        "\n",
        "    train_accuracy_list.append(train_accuracy)\n",
        "    val_accuracy_list.append(val_accuracy)\n",
        "\n",
        "    # Track the best number of trees\n",
        "    if val_accuracy > best_val_accuracy:\n",
        "        best_val_accuracy = val_accuracy\n",
        "        best_n_estimators = n_trees\n",
        "\n",
        "# Train final model with the best number of trees\n",
        "final_model = RandomForestClassifier(n_estimators=best_n_estimators, random_state=42)\n",
        "final_model.fit(X_train, y_train)\n",
        "\n",
        "# Evaluate on test set\n",
        "test_accuracy = accuracy_score(y_test, final_model.predict(X_test))\n",
        "\n",
        "# Results\n",
        "print(f\"Best Number of Trees: {best_n_estimators}\")\n",
        "print(f\"Validation Accuracy at Best: {best_val_accuracy}\")\n",
        "print(f\"Test Accuracy with Early Stopping: {test_accuracy}\")"
      ],
      "metadata": {
        "colab": {
          "base_uri": "https://localhost:8080/"
        },
        "id": "voG_qEd3ma0h",
        "outputId": "8ce75c5c-3d30-46ef-87d4-e890490c5575"
      },
      "execution_count": 21,
      "outputs": [
        {
          "output_type": "stream",
          "name": "stdout",
          "text": [
            "Best Number of Trees: 170\n",
            "Validation Accuracy at Best: 0.8222222222222222\n",
            "Test Accuracy with Early Stopping: 0.8043478260869565\n"
          ]
        }
      ]
    },
    {
      "cell_type": "markdown",
      "source": [
        "**Augmentation**"
      ],
      "metadata": {
        "id": "ueh_m8B8pMPU"
      }
    },
    {
      "cell_type": "code",
      "source": [
        "import numpy as np\n",
        "from sklearn.model_selection import train_test_split\n",
        "from sklearn.ensemble import RandomForestClassifier\n",
        "from sklearn.metrics import accuracy_score\n",
        "\n",
        "# Features and target\n",
        "X = df1.drop(columns=[\"output\"])\n",
        "y = df1[\"output\"]\n",
        "\n",
        "# Add random noise to the dataset to create augmented data\n",
        "noise_level = 0.1  # Adjust noise level as needed\n",
        "X_noisy = X + np.random.normal(0, noise_level, X.shape)\n",
        "\n",
        "# Split augmented data into training and testing sets\n",
        "X_train, X_test, y_train, y_test = train_test_split(X_noisy, y, test_size=0.2, random_state=42, stratify=y)\n",
        "\n",
        "# Train a Random Forest Classifier on the augmented dataset\n",
        "model = RandomForestClassifier(random_state=42, max_depth=5, min_samples_split=10, min_samples_leaf=5)\n",
        "model.fit(X_train, y_train)\n",
        "\n",
        "# Predictions\n",
        "train_predictions = model.predict(X_train)\n",
        "test_predictions = model.predict(X_test)\n",
        "\n",
        "# Calculate accuracies\n",
        "train_accuracy = accuracy_score(y_train, train_predictions)\n",
        "test_accuracy = accuracy_score(y_test, test_predictions)\n",
        "\n",
        "# Results\n",
        "print(\"Train Accuracy with Noise Augmentation:\", train_accuracy)\n",
        "print(\"Test Accuracy with Noise Augmentation:\", test_accuracy)"
      ],
      "metadata": {
        "colab": {
          "base_uri": "https://localhost:8080/"
        },
        "id": "_BFwMkWZnrvE",
        "outputId": "65e1d879-99b5-4d9e-8395-5319e984a9bb"
      },
      "execution_count": 22,
      "outputs": [
        {
          "output_type": "stream",
          "name": "stdout",
          "text": [
            "Train Accuracy with Noise Augmentation: 0.9338842975206612\n",
            "Test Accuracy with Noise Augmentation: 0.819672131147541\n"
          ]
        }
      ]
    },
    {
      "cell_type": "code",
      "source": [],
      "metadata": {
        "id": "YkjLhpDFpAo-"
      },
      "execution_count": null,
      "outputs": []
    }
  ]
}